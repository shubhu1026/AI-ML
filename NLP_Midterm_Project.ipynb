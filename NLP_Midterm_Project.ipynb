{
  "nbformat": 4,
  "nbformat_minor": 0,
  "metadata": {
    "colab": {
      "provenance": [],
      "gpuType": "T4",
      "authorship_tag": "ABX9TyOlQXqp2a9xX6E1nvFsLpe4",
      "include_colab_link": true
    },
    "kernelspec": {
      "name": "python3",
      "display_name": "Python 3"
    },
    "language_info": {
      "name": "python"
    },
    "accelerator": "GPU"
  },
  "cells": [
    {
      "cell_type": "markdown",
      "metadata": {
        "id": "view-in-github",
        "colab_type": "text"
      },
      "source": [
        "<a href=\"https://colab.research.google.com/github/shubhu1026/AI-ML/blob/main/NLP_Midterm_Project.ipynb\" target=\"_parent\"><img src=\"https://colab.research.google.com/assets/colab-badge.svg\" alt=\"Open In Colab\"/></a>"
      ]
    },
    {
      "cell_type": "code",
      "source": [
        "import pandas as pd\n",
        "import re\n",
        "from collections import defaultdict\n",
        "from nltk.tokenize import word_tokenize\n",
        "from nltk.util import ngrams\n",
        "from nltk.corpus import stopwords\n",
        "import random"
      ],
      "metadata": {
        "id": "YN2UIjqubw6r"
      },
      "execution_count": null,
      "outputs": []
    },
    {
      "cell_type": "code",
      "source": [
        "import nltk\n",
        "nltk.download('punkt_tab')\n",
        "nltk.download('stopwords')"
      ],
      "metadata": {
        "colab": {
          "base_uri": "https://localhost:8080/"
        },
        "id": "fvZr-4gucuQ6",
        "outputId": "94d0b1c0-c5af-4211-c235-2ea1e22a607c"
      },
      "execution_count": null,
      "outputs": [
        {
          "output_type": "stream",
          "name": "stderr",
          "text": [
            "[nltk_data] Downloading package punkt_tab to /root/nltk_data...\n",
            "[nltk_data]   Unzipping tokenizers/punkt_tab.zip.\n",
            "[nltk_data] Downloading package stopwords to /root/nltk_data...\n",
            "[nltk_data]   Unzipping corpora/stopwords.zip.\n"
          ]
        },
        {
          "output_type": "execute_result",
          "data": {
            "text/plain": [
              "True"
            ]
          },
          "metadata": {},
          "execution_count": 2
        }
      ]
    },
    {
      "cell_type": "code",
      "source": [
        "# Load dataset (assuming a CSV with \"text\" and \"sentiment\" columns)\n",
        "df = pd.read_csv(\"/content/train_data.csv\")\n",
        "\n",
        "df.head()"
      ],
      "metadata": {
        "colab": {
          "base_uri": "https://localhost:8080/",
          "height": 206
        },
        "id": "H3Cyqtfpbzsn",
        "outputId": "728fe473-6913-4d2c-fc1c-b13193336476"
      },
      "execution_count": null,
      "outputs": [
        {
          "output_type": "execute_result",
          "data": {
            "text/plain": [
              "                                            sentence  sentiment\n",
              "0  awww that s a bummer you shoulda got david car...        0.0\n",
              "1  is upset that he can t update his facebook by ...        0.0\n",
              "2  i dived many times for the ball managed to sav...        0.0\n",
              "3     my whole body feels itchy and like its on fire        0.0\n",
              "4  no it s not behaving at all i m mad why am i h...        0.0"
            ],
            "text/html": [
              "\n",
              "  <div id=\"df-295f4169-ba52-4638-bcc8-dcae511f8f9c\" class=\"colab-df-container\">\n",
              "    <div>\n",
              "<style scoped>\n",
              "    .dataframe tbody tr th:only-of-type {\n",
              "        vertical-align: middle;\n",
              "    }\n",
              "\n",
              "    .dataframe tbody tr th {\n",
              "        vertical-align: top;\n",
              "    }\n",
              "\n",
              "    .dataframe thead th {\n",
              "        text-align: right;\n",
              "    }\n",
              "</style>\n",
              "<table border=\"1\" class=\"dataframe\">\n",
              "  <thead>\n",
              "    <tr style=\"text-align: right;\">\n",
              "      <th></th>\n",
              "      <th>sentence</th>\n",
              "      <th>sentiment</th>\n",
              "    </tr>\n",
              "  </thead>\n",
              "  <tbody>\n",
              "    <tr>\n",
              "      <th>0</th>\n",
              "      <td>awww that s a bummer you shoulda got david car...</td>\n",
              "      <td>0.0</td>\n",
              "    </tr>\n",
              "    <tr>\n",
              "      <th>1</th>\n",
              "      <td>is upset that he can t update his facebook by ...</td>\n",
              "      <td>0.0</td>\n",
              "    </tr>\n",
              "    <tr>\n",
              "      <th>2</th>\n",
              "      <td>i dived many times for the ball managed to sav...</td>\n",
              "      <td>0.0</td>\n",
              "    </tr>\n",
              "    <tr>\n",
              "      <th>3</th>\n",
              "      <td>my whole body feels itchy and like its on fire</td>\n",
              "      <td>0.0</td>\n",
              "    </tr>\n",
              "    <tr>\n",
              "      <th>4</th>\n",
              "      <td>no it s not behaving at all i m mad why am i h...</td>\n",
              "      <td>0.0</td>\n",
              "    </tr>\n",
              "  </tbody>\n",
              "</table>\n",
              "</div>\n",
              "    <div class=\"colab-df-buttons\">\n",
              "\n",
              "  <div class=\"colab-df-container\">\n",
              "    <button class=\"colab-df-convert\" onclick=\"convertToInteractive('df-295f4169-ba52-4638-bcc8-dcae511f8f9c')\"\n",
              "            title=\"Convert this dataframe to an interactive table.\"\n",
              "            style=\"display:none;\">\n",
              "\n",
              "  <svg xmlns=\"http://www.w3.org/2000/svg\" height=\"24px\" viewBox=\"0 -960 960 960\">\n",
              "    <path d=\"M120-120v-720h720v720H120Zm60-500h600v-160H180v160Zm220 220h160v-160H400v160Zm0 220h160v-160H400v160ZM180-400h160v-160H180v160Zm440 0h160v-160H620v160ZM180-180h160v-160H180v160Zm440 0h160v-160H620v160Z\"/>\n",
              "  </svg>\n",
              "    </button>\n",
              "\n",
              "  <style>\n",
              "    .colab-df-container {\n",
              "      display:flex;\n",
              "      gap: 12px;\n",
              "    }\n",
              "\n",
              "    .colab-df-convert {\n",
              "      background-color: #E8F0FE;\n",
              "      border: none;\n",
              "      border-radius: 50%;\n",
              "      cursor: pointer;\n",
              "      display: none;\n",
              "      fill: #1967D2;\n",
              "      height: 32px;\n",
              "      padding: 0 0 0 0;\n",
              "      width: 32px;\n",
              "    }\n",
              "\n",
              "    .colab-df-convert:hover {\n",
              "      background-color: #E2EBFA;\n",
              "      box-shadow: 0px 1px 2px rgba(60, 64, 67, 0.3), 0px 1px 3px 1px rgba(60, 64, 67, 0.15);\n",
              "      fill: #174EA6;\n",
              "    }\n",
              "\n",
              "    .colab-df-buttons div {\n",
              "      margin-bottom: 4px;\n",
              "    }\n",
              "\n",
              "    [theme=dark] .colab-df-convert {\n",
              "      background-color: #3B4455;\n",
              "      fill: #D2E3FC;\n",
              "    }\n",
              "\n",
              "    [theme=dark] .colab-df-convert:hover {\n",
              "      background-color: #434B5C;\n",
              "      box-shadow: 0px 1px 3px 1px rgba(0, 0, 0, 0.15);\n",
              "      filter: drop-shadow(0px 1px 2px rgba(0, 0, 0, 0.3));\n",
              "      fill: #FFFFFF;\n",
              "    }\n",
              "  </style>\n",
              "\n",
              "    <script>\n",
              "      const buttonEl =\n",
              "        document.querySelector('#df-295f4169-ba52-4638-bcc8-dcae511f8f9c button.colab-df-convert');\n",
              "      buttonEl.style.display =\n",
              "        google.colab.kernel.accessAllowed ? 'block' : 'none';\n",
              "\n",
              "      async function convertToInteractive(key) {\n",
              "        const element = document.querySelector('#df-295f4169-ba52-4638-bcc8-dcae511f8f9c');\n",
              "        const dataTable =\n",
              "          await google.colab.kernel.invokeFunction('convertToInteractive',\n",
              "                                                    [key], {});\n",
              "        if (!dataTable) return;\n",
              "\n",
              "        const docLinkHtml = 'Like what you see? Visit the ' +\n",
              "          '<a target=\"_blank\" href=https://colab.research.google.com/notebooks/data_table.ipynb>data table notebook</a>'\n",
              "          + ' to learn more about interactive tables.';\n",
              "        element.innerHTML = '';\n",
              "        dataTable['output_type'] = 'display_data';\n",
              "        await google.colab.output.renderOutput(dataTable, element);\n",
              "        const docLink = document.createElement('div');\n",
              "        docLink.innerHTML = docLinkHtml;\n",
              "        element.appendChild(docLink);\n",
              "      }\n",
              "    </script>\n",
              "  </div>\n",
              "\n",
              "\n",
              "<div id=\"df-d6d2bd1f-7e71-4ea0-b254-a7afbf609032\">\n",
              "  <button class=\"colab-df-quickchart\" onclick=\"quickchart('df-d6d2bd1f-7e71-4ea0-b254-a7afbf609032')\"\n",
              "            title=\"Suggest charts\"\n",
              "            style=\"display:none;\">\n",
              "\n",
              "<svg xmlns=\"http://www.w3.org/2000/svg\" height=\"24px\"viewBox=\"0 0 24 24\"\n",
              "     width=\"24px\">\n",
              "    <g>\n",
              "        <path d=\"M19 3H5c-1.1 0-2 .9-2 2v14c0 1.1.9 2 2 2h14c1.1 0 2-.9 2-2V5c0-1.1-.9-2-2-2zM9 17H7v-7h2v7zm4 0h-2V7h2v10zm4 0h-2v-4h2v4z\"/>\n",
              "    </g>\n",
              "</svg>\n",
              "  </button>\n",
              "\n",
              "<style>\n",
              "  .colab-df-quickchart {\n",
              "      --bg-color: #E8F0FE;\n",
              "      --fill-color: #1967D2;\n",
              "      --hover-bg-color: #E2EBFA;\n",
              "      --hover-fill-color: #174EA6;\n",
              "      --disabled-fill-color: #AAA;\n",
              "      --disabled-bg-color: #DDD;\n",
              "  }\n",
              "\n",
              "  [theme=dark] .colab-df-quickchart {\n",
              "      --bg-color: #3B4455;\n",
              "      --fill-color: #D2E3FC;\n",
              "      --hover-bg-color: #434B5C;\n",
              "      --hover-fill-color: #FFFFFF;\n",
              "      --disabled-bg-color: #3B4455;\n",
              "      --disabled-fill-color: #666;\n",
              "  }\n",
              "\n",
              "  .colab-df-quickchart {\n",
              "    background-color: var(--bg-color);\n",
              "    border: none;\n",
              "    border-radius: 50%;\n",
              "    cursor: pointer;\n",
              "    display: none;\n",
              "    fill: var(--fill-color);\n",
              "    height: 32px;\n",
              "    padding: 0;\n",
              "    width: 32px;\n",
              "  }\n",
              "\n",
              "  .colab-df-quickchart:hover {\n",
              "    background-color: var(--hover-bg-color);\n",
              "    box-shadow: 0 1px 2px rgba(60, 64, 67, 0.3), 0 1px 3px 1px rgba(60, 64, 67, 0.15);\n",
              "    fill: var(--button-hover-fill-color);\n",
              "  }\n",
              "\n",
              "  .colab-df-quickchart-complete:disabled,\n",
              "  .colab-df-quickchart-complete:disabled:hover {\n",
              "    background-color: var(--disabled-bg-color);\n",
              "    fill: var(--disabled-fill-color);\n",
              "    box-shadow: none;\n",
              "  }\n",
              "\n",
              "  .colab-df-spinner {\n",
              "    border: 2px solid var(--fill-color);\n",
              "    border-color: transparent;\n",
              "    border-bottom-color: var(--fill-color);\n",
              "    animation:\n",
              "      spin 1s steps(1) infinite;\n",
              "  }\n",
              "\n",
              "  @keyframes spin {\n",
              "    0% {\n",
              "      border-color: transparent;\n",
              "      border-bottom-color: var(--fill-color);\n",
              "      border-left-color: var(--fill-color);\n",
              "    }\n",
              "    20% {\n",
              "      border-color: transparent;\n",
              "      border-left-color: var(--fill-color);\n",
              "      border-top-color: var(--fill-color);\n",
              "    }\n",
              "    30% {\n",
              "      border-color: transparent;\n",
              "      border-left-color: var(--fill-color);\n",
              "      border-top-color: var(--fill-color);\n",
              "      border-right-color: var(--fill-color);\n",
              "    }\n",
              "    40% {\n",
              "      border-color: transparent;\n",
              "      border-right-color: var(--fill-color);\n",
              "      border-top-color: var(--fill-color);\n",
              "    }\n",
              "    60% {\n",
              "      border-color: transparent;\n",
              "      border-right-color: var(--fill-color);\n",
              "    }\n",
              "    80% {\n",
              "      border-color: transparent;\n",
              "      border-right-color: var(--fill-color);\n",
              "      border-bottom-color: var(--fill-color);\n",
              "    }\n",
              "    90% {\n",
              "      border-color: transparent;\n",
              "      border-bottom-color: var(--fill-color);\n",
              "    }\n",
              "  }\n",
              "</style>\n",
              "\n",
              "  <script>\n",
              "    async function quickchart(key) {\n",
              "      const quickchartButtonEl =\n",
              "        document.querySelector('#' + key + ' button');\n",
              "      quickchartButtonEl.disabled = true;  // To prevent multiple clicks.\n",
              "      quickchartButtonEl.classList.add('colab-df-spinner');\n",
              "      try {\n",
              "        const charts = await google.colab.kernel.invokeFunction(\n",
              "            'suggestCharts', [key], {});\n",
              "      } catch (error) {\n",
              "        console.error('Error during call to suggestCharts:', error);\n",
              "      }\n",
              "      quickchartButtonEl.classList.remove('colab-df-spinner');\n",
              "      quickchartButtonEl.classList.add('colab-df-quickchart-complete');\n",
              "    }\n",
              "    (() => {\n",
              "      let quickchartButtonEl =\n",
              "        document.querySelector('#df-d6d2bd1f-7e71-4ea0-b254-a7afbf609032 button');\n",
              "      quickchartButtonEl.style.display =\n",
              "        google.colab.kernel.accessAllowed ? 'block' : 'none';\n",
              "    })();\n",
              "  </script>\n",
              "</div>\n",
              "\n",
              "    </div>\n",
              "  </div>\n"
            ],
            "application/vnd.google.colaboratory.intrinsic+json": {
              "type": "dataframe",
              "variable_name": "df"
            }
          },
          "metadata": {},
          "execution_count": 3
        }
      ]
    },
    {
      "cell_type": "code",
      "source": [
        "df = df.rename(columns={\"sentence\": \"text\"})"
      ],
      "metadata": {
        "id": "cpjE_BzRcgQ2"
      },
      "execution_count": null,
      "outputs": []
    },
    {
      "cell_type": "code",
      "source": [
        "df.head()"
      ],
      "metadata": {
        "colab": {
          "base_uri": "https://localhost:8080/",
          "height": 206
        },
        "id": "Sv8YiJiqnRu4",
        "outputId": "d65294be-a954-45cd-c6b1-42f10f3071ad"
      },
      "execution_count": null,
      "outputs": [
        {
          "output_type": "execute_result",
          "data": {
            "text/plain": [
              "                                                text  sentiment\n",
              "0  awww that s a bummer you shoulda got david car...        0.0\n",
              "1  is upset that he can t update his facebook by ...        0.0\n",
              "2  i dived many times for the ball managed to sav...        0.0\n",
              "3     my whole body feels itchy and like its on fire        0.0\n",
              "4  no it s not behaving at all i m mad why am i h...        0.0"
            ],
            "text/html": [
              "\n",
              "  <div id=\"df-4ff374f4-fa0b-4e90-b5f4-c1f260d64db6\" class=\"colab-df-container\">\n",
              "    <div>\n",
              "<style scoped>\n",
              "    .dataframe tbody tr th:only-of-type {\n",
              "        vertical-align: middle;\n",
              "    }\n",
              "\n",
              "    .dataframe tbody tr th {\n",
              "        vertical-align: top;\n",
              "    }\n",
              "\n",
              "    .dataframe thead th {\n",
              "        text-align: right;\n",
              "    }\n",
              "</style>\n",
              "<table border=\"1\" class=\"dataframe\">\n",
              "  <thead>\n",
              "    <tr style=\"text-align: right;\">\n",
              "      <th></th>\n",
              "      <th>text</th>\n",
              "      <th>sentiment</th>\n",
              "    </tr>\n",
              "  </thead>\n",
              "  <tbody>\n",
              "    <tr>\n",
              "      <th>0</th>\n",
              "      <td>awww that s a bummer you shoulda got david car...</td>\n",
              "      <td>0.0</td>\n",
              "    </tr>\n",
              "    <tr>\n",
              "      <th>1</th>\n",
              "      <td>is upset that he can t update his facebook by ...</td>\n",
              "      <td>0.0</td>\n",
              "    </tr>\n",
              "    <tr>\n",
              "      <th>2</th>\n",
              "      <td>i dived many times for the ball managed to sav...</td>\n",
              "      <td>0.0</td>\n",
              "    </tr>\n",
              "    <tr>\n",
              "      <th>3</th>\n",
              "      <td>my whole body feels itchy and like its on fire</td>\n",
              "      <td>0.0</td>\n",
              "    </tr>\n",
              "    <tr>\n",
              "      <th>4</th>\n",
              "      <td>no it s not behaving at all i m mad why am i h...</td>\n",
              "      <td>0.0</td>\n",
              "    </tr>\n",
              "  </tbody>\n",
              "</table>\n",
              "</div>\n",
              "    <div class=\"colab-df-buttons\">\n",
              "\n",
              "  <div class=\"colab-df-container\">\n",
              "    <button class=\"colab-df-convert\" onclick=\"convertToInteractive('df-4ff374f4-fa0b-4e90-b5f4-c1f260d64db6')\"\n",
              "            title=\"Convert this dataframe to an interactive table.\"\n",
              "            style=\"display:none;\">\n",
              "\n",
              "  <svg xmlns=\"http://www.w3.org/2000/svg\" height=\"24px\" viewBox=\"0 -960 960 960\">\n",
              "    <path d=\"M120-120v-720h720v720H120Zm60-500h600v-160H180v160Zm220 220h160v-160H400v160Zm0 220h160v-160H400v160ZM180-400h160v-160H180v160Zm440 0h160v-160H620v160ZM180-180h160v-160H180v160Zm440 0h160v-160H620v160Z\"/>\n",
              "  </svg>\n",
              "    </button>\n",
              "\n",
              "  <style>\n",
              "    .colab-df-container {\n",
              "      display:flex;\n",
              "      gap: 12px;\n",
              "    }\n",
              "\n",
              "    .colab-df-convert {\n",
              "      background-color: #E8F0FE;\n",
              "      border: none;\n",
              "      border-radius: 50%;\n",
              "      cursor: pointer;\n",
              "      display: none;\n",
              "      fill: #1967D2;\n",
              "      height: 32px;\n",
              "      padding: 0 0 0 0;\n",
              "      width: 32px;\n",
              "    }\n",
              "\n",
              "    .colab-df-convert:hover {\n",
              "      background-color: #E2EBFA;\n",
              "      box-shadow: 0px 1px 2px rgba(60, 64, 67, 0.3), 0px 1px 3px 1px rgba(60, 64, 67, 0.15);\n",
              "      fill: #174EA6;\n",
              "    }\n",
              "\n",
              "    .colab-df-buttons div {\n",
              "      margin-bottom: 4px;\n",
              "    }\n",
              "\n",
              "    [theme=dark] .colab-df-convert {\n",
              "      background-color: #3B4455;\n",
              "      fill: #D2E3FC;\n",
              "    }\n",
              "\n",
              "    [theme=dark] .colab-df-convert:hover {\n",
              "      background-color: #434B5C;\n",
              "      box-shadow: 0px 1px 3px 1px rgba(0, 0, 0, 0.15);\n",
              "      filter: drop-shadow(0px 1px 2px rgba(0, 0, 0, 0.3));\n",
              "      fill: #FFFFFF;\n",
              "    }\n",
              "  </style>\n",
              "\n",
              "    <script>\n",
              "      const buttonEl =\n",
              "        document.querySelector('#df-4ff374f4-fa0b-4e90-b5f4-c1f260d64db6 button.colab-df-convert');\n",
              "      buttonEl.style.display =\n",
              "        google.colab.kernel.accessAllowed ? 'block' : 'none';\n",
              "\n",
              "      async function convertToInteractive(key) {\n",
              "        const element = document.querySelector('#df-4ff374f4-fa0b-4e90-b5f4-c1f260d64db6');\n",
              "        const dataTable =\n",
              "          await google.colab.kernel.invokeFunction('convertToInteractive',\n",
              "                                                    [key], {});\n",
              "        if (!dataTable) return;\n",
              "\n",
              "        const docLinkHtml = 'Like what you see? Visit the ' +\n",
              "          '<a target=\"_blank\" href=https://colab.research.google.com/notebooks/data_table.ipynb>data table notebook</a>'\n",
              "          + ' to learn more about interactive tables.';\n",
              "        element.innerHTML = '';\n",
              "        dataTable['output_type'] = 'display_data';\n",
              "        await google.colab.output.renderOutput(dataTable, element);\n",
              "        const docLink = document.createElement('div');\n",
              "        docLink.innerHTML = docLinkHtml;\n",
              "        element.appendChild(docLink);\n",
              "      }\n",
              "    </script>\n",
              "  </div>\n",
              "\n",
              "\n",
              "<div id=\"df-44058d50-c4cc-464a-a4f3-21bc84f1b7e7\">\n",
              "  <button class=\"colab-df-quickchart\" onclick=\"quickchart('df-44058d50-c4cc-464a-a4f3-21bc84f1b7e7')\"\n",
              "            title=\"Suggest charts\"\n",
              "            style=\"display:none;\">\n",
              "\n",
              "<svg xmlns=\"http://www.w3.org/2000/svg\" height=\"24px\"viewBox=\"0 0 24 24\"\n",
              "     width=\"24px\">\n",
              "    <g>\n",
              "        <path d=\"M19 3H5c-1.1 0-2 .9-2 2v14c0 1.1.9 2 2 2h14c1.1 0 2-.9 2-2V5c0-1.1-.9-2-2-2zM9 17H7v-7h2v7zm4 0h-2V7h2v10zm4 0h-2v-4h2v4z\"/>\n",
              "    </g>\n",
              "</svg>\n",
              "  </button>\n",
              "\n",
              "<style>\n",
              "  .colab-df-quickchart {\n",
              "      --bg-color: #E8F0FE;\n",
              "      --fill-color: #1967D2;\n",
              "      --hover-bg-color: #E2EBFA;\n",
              "      --hover-fill-color: #174EA6;\n",
              "      --disabled-fill-color: #AAA;\n",
              "      --disabled-bg-color: #DDD;\n",
              "  }\n",
              "\n",
              "  [theme=dark] .colab-df-quickchart {\n",
              "      --bg-color: #3B4455;\n",
              "      --fill-color: #D2E3FC;\n",
              "      --hover-bg-color: #434B5C;\n",
              "      --hover-fill-color: #FFFFFF;\n",
              "      --disabled-bg-color: #3B4455;\n",
              "      --disabled-fill-color: #666;\n",
              "  }\n",
              "\n",
              "  .colab-df-quickchart {\n",
              "    background-color: var(--bg-color);\n",
              "    border: none;\n",
              "    border-radius: 50%;\n",
              "    cursor: pointer;\n",
              "    display: none;\n",
              "    fill: var(--fill-color);\n",
              "    height: 32px;\n",
              "    padding: 0;\n",
              "    width: 32px;\n",
              "  }\n",
              "\n",
              "  .colab-df-quickchart:hover {\n",
              "    background-color: var(--hover-bg-color);\n",
              "    box-shadow: 0 1px 2px rgba(60, 64, 67, 0.3), 0 1px 3px 1px rgba(60, 64, 67, 0.15);\n",
              "    fill: var(--button-hover-fill-color);\n",
              "  }\n",
              "\n",
              "  .colab-df-quickchart-complete:disabled,\n",
              "  .colab-df-quickchart-complete:disabled:hover {\n",
              "    background-color: var(--disabled-bg-color);\n",
              "    fill: var(--disabled-fill-color);\n",
              "    box-shadow: none;\n",
              "  }\n",
              "\n",
              "  .colab-df-spinner {\n",
              "    border: 2px solid var(--fill-color);\n",
              "    border-color: transparent;\n",
              "    border-bottom-color: var(--fill-color);\n",
              "    animation:\n",
              "      spin 1s steps(1) infinite;\n",
              "  }\n",
              "\n",
              "  @keyframes spin {\n",
              "    0% {\n",
              "      border-color: transparent;\n",
              "      border-bottom-color: var(--fill-color);\n",
              "      border-left-color: var(--fill-color);\n",
              "    }\n",
              "    20% {\n",
              "      border-color: transparent;\n",
              "      border-left-color: var(--fill-color);\n",
              "      border-top-color: var(--fill-color);\n",
              "    }\n",
              "    30% {\n",
              "      border-color: transparent;\n",
              "      border-left-color: var(--fill-color);\n",
              "      border-top-color: var(--fill-color);\n",
              "      border-right-color: var(--fill-color);\n",
              "    }\n",
              "    40% {\n",
              "      border-color: transparent;\n",
              "      border-right-color: var(--fill-color);\n",
              "      border-top-color: var(--fill-color);\n",
              "    }\n",
              "    60% {\n",
              "      border-color: transparent;\n",
              "      border-right-color: var(--fill-color);\n",
              "    }\n",
              "    80% {\n",
              "      border-color: transparent;\n",
              "      border-right-color: var(--fill-color);\n",
              "      border-bottom-color: var(--fill-color);\n",
              "    }\n",
              "    90% {\n",
              "      border-color: transparent;\n",
              "      border-bottom-color: var(--fill-color);\n",
              "    }\n",
              "  }\n",
              "</style>\n",
              "\n",
              "  <script>\n",
              "    async function quickchart(key) {\n",
              "      const quickchartButtonEl =\n",
              "        document.querySelector('#' + key + ' button');\n",
              "      quickchartButtonEl.disabled = true;  // To prevent multiple clicks.\n",
              "      quickchartButtonEl.classList.add('colab-df-spinner');\n",
              "      try {\n",
              "        const charts = await google.colab.kernel.invokeFunction(\n",
              "            'suggestCharts', [key], {});\n",
              "      } catch (error) {\n",
              "        console.error('Error during call to suggestCharts:', error);\n",
              "      }\n",
              "      quickchartButtonEl.classList.remove('colab-df-spinner');\n",
              "      quickchartButtonEl.classList.add('colab-df-quickchart-complete');\n",
              "    }\n",
              "    (() => {\n",
              "      let quickchartButtonEl =\n",
              "        document.querySelector('#df-44058d50-c4cc-464a-a4f3-21bc84f1b7e7 button');\n",
              "      quickchartButtonEl.style.display =\n",
              "        google.colab.kernel.accessAllowed ? 'block' : 'none';\n",
              "    })();\n",
              "  </script>\n",
              "</div>\n",
              "\n",
              "    </div>\n",
              "  </div>\n"
            ],
            "application/vnd.google.colaboratory.intrinsic+json": {
              "type": "dataframe",
              "variable_name": "df"
            }
          },
          "metadata": {},
          "execution_count": 5
        }
      ]
    },
    {
      "cell_type": "code",
      "source": [
        "# Preprocess function\n",
        "def clean_text(text):\n",
        "    text = text.lower()\n",
        "    text = re.sub(r\"[^\\w\\s]\", \"\", text)\n",
        "    tokens = word_tokenize(text)\n",
        "    return text"
      ],
      "metadata": {
        "id": "xwCW__LEb4bi"
      },
      "execution_count": null,
      "outputs": []
    },
    {
      "cell_type": "code",
      "source": [
        "import numpy as np\n",
        "from multiprocessing import Pool\n",
        "\n",
        "# Parallelize clean_text function\n",
        "def parallel_clean_text(df_subset):\n",
        "    return df_subset[\"text\"].apply(clean_text).tolist()\n",
        "\n",
        "# Split data into chunks and process in parallel\n",
        "def parallelize_dataframe(df, func, n_cores=4):\n",
        "    df_split = np.array_split(df, n_cores)\n",
        "    pool = Pool(n_cores)\n",
        "    results = pool.map(func, df_split)\n",
        "    pool.close()\n",
        "    pool.join()\n",
        "    return results"
      ],
      "metadata": {
        "id": "vAvX_8XyeZae"
      },
      "execution_count": null,
      "outputs": []
    },
    {
      "cell_type": "code",
      "source": [
        "df = df.sample(frac=0.05, random_state=42)"
      ],
      "metadata": {
        "id": "mvrmLz0TeJvN"
      },
      "execution_count": null,
      "outputs": []
    },
    {
      "cell_type": "code",
      "source": [
        "df.shape"
      ],
      "metadata": {
        "colab": {
          "base_uri": "https://localhost:8080/"
        },
        "id": "7R_zmT7-ePeO",
        "outputId": "65b7664f-38c6-4fe9-95ad-7c8b719098cc"
      },
      "execution_count": null,
      "outputs": [
        {
          "output_type": "execute_result",
          "data": {
            "text/plain": [
              "(76199, 2)"
            ]
          },
          "metadata": {},
          "execution_count": 131
        }
      ]
    },
    {
      "cell_type": "code",
      "source": [
        "df['sentiment'].dtype"
      ],
      "metadata": {
        "colab": {
          "base_uri": "https://localhost:8080/"
        },
        "id": "UnHyD6j9kWCs",
        "outputId": "1be9dd2f-34d6-4347-e146-6850bd237deb"
      },
      "execution_count": null,
      "outputs": [
        {
          "output_type": "execute_result",
          "data": {
            "text/plain": [
              "dtype('int64')"
            ]
          },
          "metadata": {},
          "execution_count": 132
        }
      ]
    },
    {
      "cell_type": "markdown",
      "source": [
        "(0 = negative, 1 = positive)"
      ],
      "metadata": {
        "id": "1TXgQ4vccTGN"
      }
    },
    {
      "cell_type": "code",
      "source": [
        "positive_df = df[df[\"sentiment\"] == 1]\n",
        "negative_df = df[df[\"sentiment\"] == 0]"
      ],
      "metadata": {
        "id": "JEG0dF4-nESZ"
      },
      "execution_count": null,
      "outputs": []
    },
    {
      "cell_type": "code",
      "source": [
        "positive_df.shape, negative_df.shape"
      ],
      "metadata": {
        "colab": {
          "base_uri": "https://localhost:8080/"
        },
        "id": "BZsbJMPlnV4X",
        "outputId": "a43c2b6b-fb46-4cb3-cbb6-b78ffa3f51ab"
      },
      "execution_count": null,
      "outputs": [
        {
          "output_type": "execute_result",
          "data": {
            "text/plain": [
              "((38140, 2), (38059, 2))"
            ]
          },
          "metadata": {},
          "execution_count": 138
        }
      ]
    },
    {
      "cell_type": "code",
      "source": [
        "# Separate text based on sentiment\n",
        "positive_texts = positive_df[\"text\"].apply(clean_text).tolist()\n",
        "negative_texts = negative_df[\"text\"].apply(clean_text).tolist()\n",
        "\n",
        "# positive_texts = parallelize_dataframe(df[df[\"sentiment\"] == 0], parallel_clean_text)\n",
        "# negative_texts = parallelize_dataframe(df[df[\"sentiment\"] == 1], parallel_clean_text)"
      ],
      "metadata": {
        "id": "ThkJE1hRb9oY"
      },
      "execution_count": null,
      "outputs": []
    },
    {
      "cell_type": "code",
      "source": [
        "print(\"First few positive texts:\")\n",
        "print(positive_texts[:5])  # Adjust the number (5) as needed\n",
        "\n",
        "print(\"\\nFirst few negative texts:\")\n",
        "print(negative_texts[:5])"
      ],
      "metadata": {
        "colab": {
          "base_uri": "https://localhost:8080/"
        },
        "id": "AEAWL-PrjEyF",
        "outputId": "83e3429b-2d3b-4c41-842b-6bbcb68580d2"
      },
      "execution_count": null,
      "outputs": [
        {
          "output_type": "stream",
          "name": "stdout",
          "text": [
            "First few positive texts:\n",
            "['i sent comments of love to her l', 'haha o same shit still', 'playing around with icons joe pup needs one so', 'ight bed right now mass in the morning day spent working on the sites then the gym and dinner with the fam bam goodnight everyone', 'it was nice whole family was here lots of quality time how was yours']\n",
            "\n",
            "First few negative texts:\n",
            "['me too i think nanny should make me dinner now', 'dah they aren t on mine either my twitpic isn t working so i tried sending it to the thing it says to from the site wtf', 'omg i need sleep but i work at', 'im sorry im such a loser but only really ace people laugh at their own jokes nukka lmao ok sooo ugh i forgot now', 'such a shame you have to spend time and energy chasing these rippers and copycats']\n"
          ]
        }
      ]
    },
    {
      "cell_type": "code",
      "source": [
        "from wordcloud import WordCloud\n",
        "import matplotlib.pyplot as plt\n",
        "\n",
        "# Combine all positive and negative texts into a single string\n",
        "positive_text = \" \".join(positive_texts)\n",
        "negative_text = \" \".join(negative_texts)\n",
        "\n",
        "# Generate word cloud for positive sentiment\n",
        "positive_wordcloud = WordCloud(width=800, height=400, background_color=\"white\").generate(positive_text)\n",
        "\n",
        "# Generate word cloud for negative sentiment\n",
        "negative_wordcloud = WordCloud(width=800, height=400, background_color=\"white\").generate(negative_text)\n",
        "\n",
        "# Plot word clouds\n",
        "plt.figure(figsize=(12, 6))\n",
        "\n",
        "plt.subplot(1, 2, 1)\n",
        "plt.imshow(positive_wordcloud, interpolation=\"bilinear\")\n",
        "plt.title(\"Positive Sentiment Word Cloud\")\n",
        "plt.axis(\"off\")\n",
        "\n",
        "plt.subplot(1, 2, 2)\n",
        "plt.imshow(negative_wordcloud, interpolation=\"bilinear\")\n",
        "plt.title(\"Negative Sentiment Word Cloud\")\n",
        "plt.axis(\"off\")\n",
        "\n",
        "plt.show()"
      ],
      "metadata": {
        "id": "cxw0zqNj7Q-u"
      },
      "execution_count": null,
      "outputs": []
    },
    {
      "cell_type": "code",
      "source": [
        "# from sklearn.feature_extraction.text import TfidfVectorizer\n",
        "\n",
        "# tfidf_vectorizer = TfidfVectorizer()\n",
        "\n",
        "# # Fit and transform the positive texts\n",
        "# positive_tfidf = tfidf_vectorizer.fit_transform(positive_texts)\n",
        "\n",
        "# # Fit and transform the negative texts\n",
        "# negative_tfidf = tfidf_vectorizer.fit_transform(negative_texts)"
      ],
      "metadata": {
        "id": "fo27LlwynL_W"
      },
      "execution_count": null,
      "outputs": []
    },
    {
      "cell_type": "code",
      "source": [],
      "metadata": {
        "id": "3WYQI-puraMD"
      },
      "execution_count": null,
      "outputs": []
    },
    {
      "cell_type": "code",
      "source": [
        "# # You can then generate responses based on sentiment\n",
        "# response = generate_response(\"positive\", {\"positive\": {\"pi\": pi, \"A1\": A1, \"A2\": A2, \"A3\": A3}})\n",
        "# print(\"Chatbot:\", response)\n",
        "\n",
        "# response = generate_response(\"negative\", {\"negative\": {\"pi\": pi, \"A1\": A1, \"A2\": A2, \"A3\": A3}})\n",
        "# print(\"Chatbot:\", response)"
      ],
      "metadata": {
        "colab": {
          "base_uri": "https://localhost:8080/"
        },
        "id": "jF_v7I4viq37",
        "outputId": "493f219d-be5f-445d-9ab3-9c00fd8dd8ad"
      },
      "execution_count": null,
      "outputs": [
        {
          "output_type": "stream",
          "name": "stdout",
          "text": [
            "Chatbot: so i cant update twitter the way i used it after all thanks for following james looking forward to the weekend hehe\n",
            "Chatbot: morning hon finished all my tests on thursday yet i still remain held captive by indy s spirit\n"
          ]
        }
      ]
    },
    {
      "cell_type": "code",
      "source": [
        "def fill_dict(dictionary, key, value):\n",
        "    if key not in dictionary:\n",
        "        dictionary[key] = []\n",
        "    dictionary[key].append(value)"
      ],
      "metadata": {
        "id": "-BQ93QMSsHrW"
      },
      "execution_count": null,
      "outputs": []
    },
    {
      "cell_type": "code",
      "source": [
        "def sample_word(d):\n",
        "    p0 = np.random.random()\n",
        "    cumulative = 0\n",
        "    for t, p in d.items():\n",
        "        cumulative += p\n",
        "        if p0 < cumulative:\n",
        "            return t"
      ],
      "metadata": {
        "id": "bJYYWAwwsLK7"
      },
      "execution_count": null,
      "outputs": []
    },
    {
      "cell_type": "code",
      "source": [
        "def list_to_probdict(tokens):\n",
        "    d = {}\n",
        "    T = len(tokens)\n",
        "    for t in tokens:\n",
        "        d[t] = d.get(t, 0.) + 1\n",
        "    for t, c in d.items():\n",
        "        d[t] = c / T\n",
        "    return d"
      ],
      "metadata": {
        "id": "cRcfwtWwsRFi"
      },
      "execution_count": null,
      "outputs": []
    },
    {
      "cell_type": "code",
      "source": [
        "pi = {}  # Initial distribution\n",
        "A1 = {}  # First order transition\n",
        "A2 = {}  # Second order transition\n",
        "A3 = {}  # Third order transition\n",
        "\n",
        "# Loop through the DataFrame\n",
        "for text in positive_texts:\n",
        "        # Split the cleaned text into tokens\n",
        "        tokens = text.split()\n",
        "        T = len(tokens)\n",
        "        if T > 2:\n",
        "            # Update initial distribution using the first token\n",
        "            pi[tokens[0]] = pi.get(tokens[0], 0) + 1\n",
        "\n",
        "            # Build transitions for each token in the sequence\n",
        "            for i in range(1, T):\n",
        "                if i == 1:\n",
        "                    fill_dict(A1, tokens[i-1], tokens[i])\n",
        "                elif i == 2:\n",
        "                    fill_dict(A2, (tokens[i-2], tokens[i-1]), tokens[i])\n",
        "                else:\n",
        "                    fill_dict(A3, (tokens[i-3], tokens[i-2], tokens[i-1]), tokens[i])\n",
        "            # Add an end marker for the sentence\n",
        "            fill_dict(A3, (tokens[-3], tokens[-2], tokens[-1]), \"<end>\")\n",
        "\n",
        "# Normalize pi (initial distribution)\n",
        "pi_total = sum(pi.values())\n",
        "for t, count in pi.items():\n",
        "    pi[t] = count / pi_total\n",
        "\n",
        "# Normalize A1, A2, and A3\n",
        "for t_1, token in A1.items():\n",
        "    A1[t_1] = list_to_probdict(token)\n",
        "\n",
        "for (t_2, t_1), token in A2.items():\n",
        "    A2[(t_2, t_1)] = list_to_probdict(token)\n",
        "\n",
        "for (t_3, t_2, t_1), token in A3.items():\n",
        "    A3[(t_3, t_2, t_1)] = list_to_probdict(token)"
      ],
      "metadata": {
        "id": "b6Xa7zvui5La"
      },
      "execution_count": null,
      "outputs": []
    },
    {
      "cell_type": "code",
      "source": [
        "# Initialize negative Markov model dictionaries\n",
        "pi_neg = {}  # Initial distribution for negative texts\n",
        "A1_neg = {}  # First order transitions for negative texts\n",
        "A2_neg = {}  # Second order transitions for negative texts\n",
        "A3_neg = {}  # Third order transitions for negative texts\n",
        "\n",
        "# Loop through the negative_texts list and build the model\n",
        "for text in negative_texts:\n",
        "    # Split the cleaned text into tokens (assuming text is already cleaned)\n",
        "    tokens = text.split()\n",
        "    T = len(tokens)\n",
        "\n",
        "    if T > 2:\n",
        "        # Update initial distribution using the first token\n",
        "        pi_neg[tokens[0]] = pi_neg.get(tokens[0], 0) + 1\n",
        "\n",
        "        # Build transitions for each token in the sequence\n",
        "        for i in range(1, T):\n",
        "            if i == 1:\n",
        "                fill_dict(A1_neg, tokens[i-1], tokens[i])\n",
        "            elif i == 2:\n",
        "                fill_dict(A2_neg, (tokens[i-2], tokens[i-1]), tokens[i])\n",
        "            else:\n",
        "                fill_dict(A3_neg, (tokens[i-3], tokens[i-2], tokens[i-1]), tokens[i])\n",
        "\n",
        "        # Add an end marker for the sentence\n",
        "        fill_dict(A3_neg, (tokens[-3], tokens[-2], tokens[-1]), \"<end>\")\n",
        "\n",
        "# Normalize the initial distribution for negative texts\n",
        "pi_total_neg = sum(pi_neg.values())\n",
        "for t, count in pi_neg.items():\n",
        "    pi_neg[t] = count / pi_total_neg\n",
        "\n",
        "# Normalize the transition dictionaries for negative texts\n",
        "for t_1, token in A1_neg.items():\n",
        "    A1_neg[t_1] = list_to_probdict(token)\n",
        "\n",
        "for (t_2, t_1), token in A2_neg.items():\n",
        "    A2_neg[(t_2, t_1)] = list_to_probdict(token)\n",
        "\n",
        "for (t_3, t_2, t_1), token in A3_neg.items():\n",
        "    A3_neg[(t_3, t_2, t_1)] = list_to_probdict(token)"
      ],
      "metadata": {
        "id": "-a4u0ml-stnk"
      },
      "execution_count": null,
      "outputs": []
    },
    {
      "cell_type": "code",
      "source": [
        "def generate_positive_sentence():\n",
        "    sentence = []\n",
        "    w0 = sample_word(pi)\n",
        "    sentence.append(w0)\n",
        "\n",
        "    if w0 not in A1:\n",
        "        return \" \".join(sentence)\n",
        "\n",
        "    w1 = sample_word(A1[w0])\n",
        "    sentence.append(w1)\n",
        "\n",
        "    if (w0, w1) not in A2:\n",
        "        return \" \".join(sentence)\n",
        "\n",
        "    w2 = sample_word(A2[(w0, w1)])\n",
        "    sentence.append(w2)\n",
        "\n",
        "    while True:\n",
        "        if (w0, w1, w2) in A3:\n",
        "            w3 = sample_word(A3[(w0, w1, w2)])\n",
        "        elif (w1, w2) in A2:\n",
        "            w3 = sample_word(A2[(w1, w2)])\n",
        "        elif w2 in A1:\n",
        "            w3 = sample_word(A1[w2])\n",
        "        else:\n",
        "            break\n",
        "        if w3 == \"<end>\":\n",
        "            break\n",
        "        sentence.append(w3)\n",
        "        w0, w1, w2 = w1, w2, w3\n",
        "\n",
        "    return \" \".join(sentence)\n",
        "\n",
        "# Markov model sentence generation for negative sentiment\n",
        "def generate_negative_sentence():\n",
        "    sentence = []\n",
        "    w0 = sample_word(pi_neg)\n",
        "    sentence.append(w0)\n",
        "\n",
        "    if w0 not in A1_neg:\n",
        "        return \" \".join(sentence)\n",
        "\n",
        "    w1 = sample_word(A1_neg[w0])\n",
        "    sentence.append(w1)\n",
        "\n",
        "    if (w0, w1) not in A2_neg:\n",
        "        return \" \".join(sentence)\n",
        "\n",
        "    w2 = sample_word(A2_neg[(w0, w1)])\n",
        "    sentence.append(w2)\n",
        "\n",
        "    while True:\n",
        "        if (w0, w1, w2) in A3_neg:\n",
        "            w3 = sample_word(A3_neg[(w0, w1, w2)])\n",
        "        elif (w1, w2) in A2_neg:\n",
        "            w3 = sample_word(A2_neg[(w1, w2)])\n",
        "        elif w2 in A1_neg:\n",
        "            w3 = sample_word(A1_neg[w2])\n",
        "        else:\n",
        "            break\n",
        "        if w3 == \"<end>\":\n",
        "            break\n",
        "        sentence.append(w3)\n",
        "        w0, w1, w2 = w1, w2, w3\n",
        "\n",
        "    return \" \".join(sentence)"
      ],
      "metadata": {
        "id": "kdmNkkgopQ8R"
      },
      "execution_count": null,
      "outputs": []
    },
    {
      "cell_type": "code",
      "source": [
        "nltk.download('vader_lexicon')"
      ],
      "metadata": {
        "id": "ohELphqmtzUJ"
      },
      "execution_count": null,
      "outputs": []
    },
    {
      "cell_type": "code",
      "source": [
        "from nltk.sentiment import SentimentIntensityAnalyzer\n",
        "\n",
        "# Initialize VADER sentiment analyzer\n",
        "sia = SentimentIntensityAnalyzer()\n",
        "\n",
        "# Define the sentiment classification function\n",
        "def get_sentiment(text):\n",
        "    score = sia.polarity_scores(text)\n",
        "    if score[\"compound\"] >= 0.05:\n",
        "        return \"positive\"\n",
        "    elif score[\"compound\"] <= -0.05:\n",
        "        return \"negative\"\n",
        "    return None"
      ],
      "metadata": {
        "id": "jJesoqwltyLN"
      },
      "execution_count": null,
      "outputs": []
    },
    {
      "cell_type": "code",
      "source": [
        "def generate_response(user_input):\n",
        "    sentiment = get_sentiment(user_input)\n",
        "\n",
        "    if sentiment == \"positive\":\n",
        "        return generate_positive_sentence()\n",
        "    elif sentiment == \"negative\":\n",
        "        return generate_negative_sentence()\n",
        "    else:\n",
        "        return \"It seems you're feeling neutral. Here's something to think about!\""
      ],
      "metadata": {
        "colab": {
          "base_uri": "https://localhost:8080/"
        },
        "id": "AdQaXTv_pYnw",
        "outputId": "2033e4ab-af4c-4070-a501-07161d225ded"
      },
      "execution_count": null,
      "outputs": [
        {
          "output_type": "stream",
          "name": "stdout",
          "text": [
            "Generated sentence: lol i wouldn t give for one night of un interrupted blissful sleep\n"
          ]
        }
      ]
    },
    {
      "cell_type": "code",
      "source": [
        "def chat():\n",
        "    print(\"Chatbot: Hi there! How can I assist you today?\")\n",
        "    while True:\n",
        "        user_input = input(\"You: \")\n",
        "\n",
        "        if user_input.lower() in [\"exit\", \"quit\", \"bye\"]:\n",
        "            print(\"Chatbot: Goodbye! Have a great day!\")\n",
        "            break\n",
        "\n",
        "        response = generate_response(user_input)\n",
        "        print(\"Chatbot:\", response)\n",
        "\n",
        "# Run the chatbot\n",
        "chat()"
      ],
      "metadata": {
        "id": "sCO12x6ApZ70"
      },
      "execution_count": null,
      "outputs": []
    }
  ]
}