{
 "cells": [
  {
   "cell_type": "code",
   "execution_count": 1,
   "id": "e574b87e-a3e2-4de5-9689-8606501cb2bf",
   "metadata": {},
   "outputs": [],
   "source": [
    "import math, copy\n",
    "import numpy as np\n",
    "import matplotlib.pyplot as plt\n",
    "\n",
    "from lab_utils_uni import plt_house_x, plt_contour_wgrad, plt_divergence, plt_gradients"
   ]
  },
  {
   "cell_type": "code",
   "execution_count": 2,
   "id": "20d5f677-8a60-4ec2-955d-1c7f0869159f",
   "metadata": {},
   "outputs": [],
   "source": [
    "x_train = np.array([1.0, 2.0])   #features\n",
    "y_train = np.array([300.0, 500.0])   #target value"
   ]
  },
  {
   "cell_type": "code",
   "execution_count": 3,
   "id": "b2dd3340-d00b-4735-98f4-cad9bf5b223e",
   "metadata": {},
   "outputs": [],
   "source": [
    "def compute_cost(x, y, w, b):\n",
    "    m = x.shape[0]\n",
    "    cost = 0\n",
    "\n",
    "    for i in range(m):\n",
    "        f_wb = w * x[i] + b\n",
    "        cost = cost + (f_wb - y[i])**2\n",
    "    total_cost = 1 / (2*m) * cost\n",
    "\n",
    "    return total_cost"
   ]
  },
  {
   "cell_type": "code",
   "execution_count": 4,
   "id": "b0a9ec3b-9553-44b6-bb71-3b7608c4ca31",
   "metadata": {},
   "outputs": [],
   "source": [
    "def compute_gradient(x, y, w, b):\n",
    "    m = x.shape[0]\n",
    "    dj_dw = 0\n",
    "    dj_db = 0\n",
    "\n",
    "    for i in range(m):\n",
    "        f_wb = w * x[i] + b\n",
    "        dj_dw_i = (f_wb - y[i]) * x[i]\n",
    "        dj_db_i = f_wb - y[i]\n",
    "        dj_dw += dj_dw_i\n",
    "        dj_db += dj_db_i\n",
    "    dj_dw = dj_dw / m\n",
    "    dj_db = dj_db / m\n",
    "\n",
    "    return dj_dw, dj_db"
   ]
  },
  {
   "cell_type": "code",
   "execution_count": 7,
   "id": "aa8cb342-6cdb-45ba-bac2-71d2b155132b",
   "metadata": {},
   "outputs": [],
   "source": [
    "def gradient_descent(x, y, w_in, b_in, alpha, num_iters, cost_function, gradient_function):\n",
    "    w = copy.deepcopy(w_in)\n",
    "    \n",
    "    J_history = []\n",
    "    p_history = []\n",
    "\n",
    "    b = b_in\n",
    "    w = w_in\n",
    "\n",
    "    for i in range(num_iters):\n",
    "        dj_dw, dj_db = gradient_function(x, y, w, b)\n",
    "\n",
    "        b = b - alpha * dj_db\n",
    "        w = w - alpha * dj_dw\n",
    "\n",
    "        if i < 100000:\n",
    "            J_history.append(cost_function(x, y, w, b))\n",
    "            p_history.append([w,b])\n",
    "\n",
    "        if i % math.ceil(num_iters/10) == 0:\n",
    "            print(f\"Iteration {i:4}: Cost {J_history[-1]:0.2e} \",\n",
    "                  f\"dj_dw: {dj_dw: 0.3e}, dj_db: {dj_db: 0.3e}  \",\n",
    "                  f\"w: {w: 0.3e}, b:{b: 0.5e}\")\n",
    "            \n",
    "    return w, b, J_history, p_history"
   ]
  },
  {
   "cell_type": "code",
   "execution_count": 15,
   "id": "9d495e6f-73c4-4b6b-ae95-257dae0bca53",
   "metadata": {},
   "outputs": [
    {
     "name": "stdout",
     "output_type": "stream",
     "text": [
      "Iteration    0: Cost 7.93e+04  dj_dw: -6.500e+02, dj_db: -4.000e+02   w:  6.500e+00, b: 4.00000e+00\n",
      "Iteration 1200: Cost 2.55e+00  dj_dw: -3.208e-01, dj_db:  5.191e-01   w:  1.956e+02, b: 1.07111e+02\n",
      "Iteration 2400: Cost 4.42e-01  dj_dw: -1.336e-01, dj_db:  2.162e-01   w:  1.982e+02, b: 1.02962e+02\n",
      "Iteration 3600: Cost 7.67e-02  dj_dw: -5.567e-02, dj_db:  9.008e-02   w:  1.992e+02, b: 1.01234e+02\n",
      "Iteration 4800: Cost 1.33e-02  dj_dw: -2.319e-02, dj_db:  3.752e-02   w:  1.997e+02, b: 1.00514e+02\n",
      "Iteration 6000: Cost 2.31e-03  dj_dw: -9.660e-03, dj_db:  1.563e-02   w:  1.999e+02, b: 1.00214e+02\n",
      "Iteration 7200: Cost 4.01e-04  dj_dw: -4.024e-03, dj_db:  6.511e-03   w:  1.999e+02, b: 1.00089e+02\n",
      "Iteration 8400: Cost 6.96e-05  dj_dw: -1.676e-03, dj_db:  2.712e-03   w:  2.000e+02, b: 1.00037e+02\n",
      "Iteration 9600: Cost 1.21e-05  dj_dw: -6.983e-04, dj_db:  1.130e-03   w:  2.000e+02, b: 1.00015e+02\n",
      "Iteration 10800: Cost 2.10e-06  dj_dw: -2.909e-04, dj_db:  4.707e-04   w:  2.000e+02, b: 1.00006e+02\n",
      "(w,b) found by gradient descent: (199.9983,100.0027)\n"
     ]
    }
   ],
   "source": [
    "w_init = 0\n",
    "b_init = 0\n",
    "\n",
    "iterations = 12000\n",
    "tmp_alpha = 1.0e-2\n",
    "\n",
    "w_final, b_final, J_hist, p_hist = gradient_descent(x_train ,y_train, w_init, b_init, tmp_alpha, \n",
    "                                                    iterations, compute_cost, compute_gradient)\n",
    "print(f\"(w,b) found by gradient descent: ({w_final:8.4f},{b_final:8.4f})\")"
   ]
  },
  {
   "cell_type": "markdown",
   "id": "af3f1043-81f8-4bd1-adbb-3cd6c0cbf6d5",
   "metadata": {},
   "source": [
    "### Predictions:"
   ]
  },
  {
   "cell_type": "code",
   "execution_count": 16,
   "id": "f842ba60-245c-4688-aa2c-7c242d89ff28",
   "metadata": {},
   "outputs": [
    {
     "name": "stdout",
     "output_type": "stream",
     "text": [
      "1000 sqft house prediction 300.0 Thousand dollars\n",
      "1200 sqft house prediction 340.0 Thousand dollars\n",
      "2000 sqft house prediction 500.0 Thousand dollars\n"
     ]
    }
   ],
   "source": [
    "print(f\"1000 sqft house prediction {w_final*1.0 + b_final:0.1f} Thousand dollars\")\n",
    "print(f\"1200 sqft house prediction {w_final*1.2 + b_final:0.1f} Thousand dollars\")\n",
    "print(f\"2000 sqft house prediction {w_final*2.0 + b_final:0.1f} Thousand dollars\")"
   ]
  },
  {
   "cell_type": "code",
   "execution_count": null,
   "id": "63545e37-18fa-499d-a1ff-70ed21e04f27",
   "metadata": {},
   "outputs": [],
   "source": []
  }
 ],
 "metadata": {
  "kernelspec": {
   "display_name": "Python 3 (ipykernel)",
   "language": "python",
   "name": "python3"
  },
  "language_info": {
   "codemirror_mode": {
    "name": "ipython",
    "version": 3
   },
   "file_extension": ".py",
   "mimetype": "text/x-python",
   "name": "python",
   "nbconvert_exporter": "python",
   "pygments_lexer": "ipython3",
   "version": "3.12.4"
  }
 },
 "nbformat": 4,
 "nbformat_minor": 5
}
